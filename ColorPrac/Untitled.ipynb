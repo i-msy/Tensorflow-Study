{
 "cells": [
  {
   "cell_type": "code",
   "execution_count": 1,
   "metadata": {},
   "outputs": [],
   "source": [
    "import cv2\n",
    "from matplotlib import pyplot as plt\n",
    "import numpy as np"
   ]
  },
  {
   "cell_type": "code",
   "execution_count": 16,
   "metadata": {},
   "outputs": [
    {
     "data": {
      "text/plain": [
       "(-0.5, 1.5, 99.5, -0.5)"
      ]
     },
     "execution_count": 16,
     "metadata": {},
     "output_type": "execute_result"
    },
    {
     "data": {
      "image/png": "[encoded data removed]",
      "text/plain": [
       "<Figure size 432x288 with 2 Axes>"
      ]
     },
     "metadata": {
      "needs_background": "light"
     },
     "output_type": "display_data"
    }
   ],
   "source": [
    "img_bgr = cv2.imread(\"2.jpg\", cv2.IMREAD_COLOR)\n",
    "img_rgb = cv2.cvtColor(img_bgr,cv2.COLOR_BGR2RGB)\n",
    "\n",
    "x,y,chaneel=img_bgr.shape\n",
    "#x:width y:height\n",
    "x = int(x/2)\n",
    "y = int(y/2)\n",
    "dst = img_rgb.copy()\n",
    "dst = dst[(x-50):(x+50), (y-50):(y+50)]\n",
    "\n",
    "# plots\n",
    "plt.subplot(221)\n",
    "plt.imshow(img_rgb)\n",
    "plt.axis('off')\n",
    "\n",
    "plt.subplot(222)\n",
    "plt.imshow(dst)\n",
    "plt.axis('off')"
   ]
  },
  {
   "cell_type": "code",
   "execution_count": 17,
   "metadata": {},
   "outputs": [],
   "source": [
    "from sklearn.cluster import KMeans"
   ]
  },
  {
   "cell_type": "code",
   "execution_count": 18,
   "metadata": {},
   "outputs": [
    {
     "name": "stdout",
     "output_type": "stream",
     "text": [
      "(200, 3)\n"
     ]
    },
    {
     "data": {
      "text/plain": [
       "KMeans(algorithm='auto', copy_x=True, init='k-means++', max_iter=300,\n",
       "       n_clusters=1, n_init=10, n_jobs=None, precompute_distances='auto',\n",
       "       random_state=None, tol=0.0001, verbose=0)"
      ]
     },
     "execution_count": 18,
     "metadata": {},
     "output_type": "execute_result"
    }
   ],
   "source": [
    "#k-mean 알고리즘은 머신러닝 비지도 학습중 가장 일반적인 모델로\n",
    "#k개 데이터 평균을 만들어 데이터를 clustering하는 알고리즘\n",
    "\n",
    "new_rgb = dst.reshape((dst.shape[0]*dst.shape[1],3))\n",
    "print(new_rgb.shape)\n",
    "\n",
    "k=1\n",
    "clt = KMeans(n_clusters = k)\n",
    "clt.fit(new_rgb)"
   ]
  },
  {
   "cell_type": "code",
   "execution_count": 19,
   "metadata": {},
   "outputs": [
    {
     "name": "stdout",
     "output_type": "stream",
     "text": [
      "[148.405 154.455 153.52 ]\n"
     ]
    }
   ],
   "source": [
    "for center in clt.cluster_centers_:\n",
    "    print(center)"
   ]
  },
  {
   "cell_type": "code",
   "execution_count": 20,
   "metadata": {},
   "outputs": [
    {
     "name": "stdout",
     "output_type": "stream",
     "text": [
      "[148, 154, 153]\n"
     ]
    }
   ],
   "source": [
    "col = clt.cluster_centers_.astype(\"uint8\").flatten().tolist()\n",
    "print(col)\n"
   ]
  },
  {
   "cell_type": "code",
   "execution_count": 21,
   "metadata": {},
   "outputs": [
    {
     "data": {
      "image/png": "[encoded data removed]",
      "text/plain": [
       "<Figure size 432x288 with 1 Axes>"
      ]
     },
     "metadata": {
      "needs_background": "light"
     },
     "output_type": "display_data"
    }
   ],
   "source": [
    "bar = np.zeros((1,1,3),dtype=\"uint8\")\n",
    "startX=0\n",
    "endX=5\n",
    "cv2.rectangle(bar, (int(startX), 0),(int(endX),0),col, -1)\n",
    "#두께에 -1 값 주면 내부 색칠된 사각형 얻음\n",
    "\n",
    "plt.figure()\n",
    "plt.axis(\"off\")\n",
    "plt.imshow(bar)\n",
    "plt.show()\n"
   ]
  },
  {
   "cell_type": "code",
   "execution_count": 132,
   "metadata": {},
   "outputs": [],
   "source": [
    "def get_HSV(color):\n",
    "    r,g,b=color\n",
    "    r, g, b = r/255.0, g/255.0, b/255.0\n",
    "    mx = max(r, g, b)\n",
    "    mn = min(r, g, b)\n",
    "    df = mx-mn\n",
    "    if mx == mn:\n",
    "        h = 0\n",
    "    elif mx == r:\n",
    "        h = (60 * ((g-b)/df) + 360) % 360\n",
    "    elif mx == g:\n",
    "        h = (60 * ((b-r)/df) + 120) % 360\n",
    "    elif mx == b:\n",
    "        h = (60 * ((r-g)/df) + 240) % 360\n",
    "    if mx == 0:\n",
    "        s = 0\n",
    "    else:\n",
    "        s = (df/mx)*100\n",
    "    v = mx*100\n",
    "    return h, s, v"
   ]
  },
  {
   "cell_type": "code",
   "execution_count": 133,
   "metadata": {},
   "outputs": [
    {
     "name": "stdout",
     "output_type": "stream",
     "text": [
      "[111, 195, 239]\n"
     ]
    },
    {
     "data": {
      "text/plain": [
       "(200.625, 53.55648535564853, 93.72549019607843)"
      ]
     },
     "execution_count": 133,
     "metadata": {},
     "output_type": "execute_result"
    }
   ],
   "source": [
    "print(col)\n",
    "get_HSV(col)"
   ]
  },
  {
   "cell_type": "code",
   "execution_count": 54,
   "metadata": {},
   "outputs": [
    {
     "ename": "NameError",
     "evalue": "name 'color' is not defined",
     "output_type": "error",
     "traceback": [
      "\u001b[1;31m---------------------------------------------------------------------------\u001b[0m",
      "\u001b[1;31mNameError\u001b[0m                                 Traceback (most recent call last)",
      "\u001b[1;32m<ipython-input-54-884e46ebf637>\u001b[0m in \u001b[0;36m<module>\u001b[1;34m\u001b[0m\n\u001b[0;32m     10\u001b[0m     \u001b[1;32mreturn\u001b[0m \u001b[0mbar\u001b[0m\u001b[1;33m\u001b[0m\u001b[1;33m\u001b[0m\u001b[0m\n\u001b[0;32m     11\u001b[0m \u001b[1;33m\u001b[0m\u001b[0m\n\u001b[1;32m---> 12\u001b[1;33m \u001b[0mbar\u001b[0m \u001b[1;33m=\u001b[0m \u001b[0mplot_colors\u001b[0m\u001b[1;33m(\u001b[0m\u001b[0mhist\u001b[0m\u001b[1;33m,\u001b[0m \u001b[0mclt\u001b[0m\u001b[1;33m.\u001b[0m\u001b[0mcluster_centers_\u001b[0m\u001b[1;33m)\u001b[0m\u001b[1;33m\u001b[0m\u001b[1;33m\u001b[0m\u001b[0m\n\u001b[0m\u001b[0;32m     13\u001b[0m \u001b[1;33m\u001b[0m\u001b[0m\n\u001b[0;32m     14\u001b[0m \u001b[0mplt\u001b[0m\u001b[1;33m.\u001b[0m\u001b[0mfigure\u001b[0m\u001b[1;33m(\u001b[0m\u001b[1;33m)\u001b[0m\u001b[1;33m\u001b[0m\u001b[1;33m\u001b[0m\u001b[0m\n",
      "\u001b[1;32m<ipython-input-54-884e46ebf637>\u001b[0m in \u001b[0;36mplot_colors\u001b[1;34m(hist, centroids)\u001b[0m\n\u001b[0;32m      6\u001b[0m     \u001b[0mendX\u001b[0m \u001b[1;33m=\u001b[0m \u001b[1;36m100\u001b[0m\u001b[1;33m\u001b[0m\u001b[1;33m\u001b[0m\u001b[0m\n\u001b[0;32m      7\u001b[0m     cv2.rectangle(bar, (int(startX), 0), (int(endX), 50),\n\u001b[1;32m----> 8\u001b[1;33m                       color.astype(\"uint8\").tolist(), -1)\n\u001b[0m\u001b[0;32m      9\u001b[0m     \u001b[1;31m# return the bar chart\u001b[0m\u001b[1;33m\u001b[0m\u001b[1;33m\u001b[0m\u001b[1;33m\u001b[0m\u001b[0m\n\u001b[0;32m     10\u001b[0m     \u001b[1;32mreturn\u001b[0m \u001b[0mbar\u001b[0m\u001b[1;33m\u001b[0m\u001b[1;33m\u001b[0m\u001b[0m\n",
      "\u001b[1;31mNameError\u001b[0m: name 'color' is not defined"
     ]
    }
   ],
   "source": [
    "def plot_colors(hist,centroids):\n",
    "    # initialize the bar chart representing the relative frequency\n",
    "    # of each of the colors\n",
    "    bar = np.zeros((50, 300, 3), dtype=\"uint8\")\n",
    "    startX = 0\n",
    "    endX = 100\n",
    "    cv2.rectangle(bar, (int(startX), 0), (int(endX), 50),\n",
    "                      color.astype(\"uint8\").tolist(), -1)\n",
    "    # return the bar chart\n",
    "    return bar\n",
    "\n",
    "bar = plot_colors(hist, clt.cluster_centers_)\n",
    "\n",
    "plt.figure()\n",
    "plt.axis(\"off\")\n",
    "plt.imshow(bar)\n",
    "plt.show()\n"
   ]
  },
  {
   "cell_type": "code",
   "execution_count": 142,
   "metadata": {},
   "outputs": [
    {
     "name": "stdout",
     "output_type": "stream",
     "text": [
      "(2, 4)\n",
      "2\n",
      "4\n"
     ]
    }
   ],
   "source": [
    "type = [[(2,4),[3,7]],[[1,3],[7,9]]]\n",
    "print(type[0][0])\n",
    "\n",
    "for i in type[0][0]:\n",
    "    print(i)"
   ]
  },
  {
   "cell_type": "code",
   "execution_count": 151,
   "metadata": {},
   "outputs": [
    {
     "name": "stdout",
     "output_type": "stream",
     "text": [
      "1\n"
     ]
    }
   ],
   "source": [
    "result=-1\n",
    "hsv= [56,40,80]\n",
    "types = [[[0,359],[0,5],[50,100]],\n",
    "         [[50,70],[6,45],[75,85]],\n",
    "         [[50,70],[46,60],[60,74]],\n",
    "         [[50,70],[61,70],[55,61]],\n",
    "         [[50,70],[51,60],[50,54]],\n",
    "         [[30,49],[35,70],[50,60]],\n",
    "         [[0,25],[20,100],[20,80]],\n",
    "         [[30,40],[25,34],[40,60]],\n",
    "         [[69,240],[15,100],[30,80]]]\n",
    "\n",
    "for i in range(9):\n",
    "    if hsv[0] in range(types[i][0][0],types[i][0][1]):\n",
    "        if hsv[1] in range(types[i][1][0],types[i][1][1]):\n",
    "            if hsv[2] in range(types[i][2][0],types[i][2][1]):\n",
    "                result=i\n",
    "            \n",
    "print(result)"
   ]
  },
  {
   "cell_type": "code",
   "execution_count": null,
   "metadata": {},
   "outputs": [],
   "source": [
    "for i in range(9):\n",
    "    for j in range(1):\n",
    "        if  in range(2)"
   ]
  }
 ],
 "metadata": {
  "kernelspec": {
   "display_name": "Python 3",
   "language": "python",
   "name": "python3"
  },
  "language_info": {
   "codemirror_mode": {
    "name": "ipython",
    "version": 3
   },
   "file_extension": ".py",
   "mimetype": "text/x-python",
   "name": "python",
   "nbconvert_exporter": "python",
   "pygments_lexer": "ipython3",
   "version": "3.7.6"
  }
 },
 "nbformat": 4,
 "nbformat_minor": 4
}
