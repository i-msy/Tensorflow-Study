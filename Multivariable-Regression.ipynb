{
 "cells": [
  {
   "cell_type": "code",
   "execution_count": 1,
   "metadata": {},
   "outputs": [],
   "source": [
    "import tensorflow as tf\n",
    "import numpy as np\n",
    "\n",
    "tf.enable_eager_execution()"
   ]
  },
  {
   "cell_type": "code",
   "execution_count": 6,
   "metadata": {},
   "outputs": [
    {
     "name": "stdout",
     "output_type": "stream",
     "text": [
      "    0 |    3250.2500\n",
      "   50 |      56.9294\n",
      "  100 |      21.4409\n",
      "  150 |      20.9922\n",
      "  200 |      20.9325\n",
      "  250 |      20.8772\n",
      "  300 |      20.8222\n",
      "  350 |      20.7674\n",
      "  400 |      20.7127\n",
      "  450 |      20.6581\n",
      "  500 |      20.6037\n",
      "  550 |      20.5494\n",
      "  600 |      20.4951\n",
      "  650 |      20.4410\n",
      "  700 |      20.3870\n",
      "  750 |      20.3332\n",
      "  800 |      20.2797\n",
      "  850 |      20.2264\n",
      "  900 |      20.1731\n",
      "  950 |      20.1200\n",
      " 1000 |      20.0670\n"
     ]
    }
   ],
   "source": [
    "#Matrix 사용하지 않은 경우\n",
    "#data and label\n",
    "x1=[73.,93.,89.,96.,73.]\n",
    "x2=[80.,88.,91.,98.,66.]\n",
    "x3=[75.,93.,90.,100.,70.]\n",
    "y=[152.,185.,180.,196.,142.]\n",
    "\n",
    "#weights\n",
    "w1 = tf.Variable(tf.random_normal([1]))\n",
    "w2 = tf.Variable(tf.random_normal([1]))\n",
    "w3 = tf.Variable(tf.random_normal([1]))\n",
    "b = tf.Variable(tf.random_normal([1]))\n",
    "\n",
    "learning_rate=0.000001\n",
    "\n",
    "for i in range(1000+1):\n",
    "    #tf.GradientTape() to record the gradient of the cost function\n",
    "    with tf.GradientTape() as tape:\n",
    "        hypothesis = w1*x1 + w2*x2 + w3*x3 +b\n",
    "        cost = tf.reduce_mean(tf.square(hypothesis-y))\n",
    "    #calculates the gradients of the cost\n",
    "    w1_grad, w2_grad, w3_grad, b_grad = tape.gradient(cost,[w1,w2,w3,b])\n",
    "    \n",
    "    #update \n",
    "    w1.assign_sub(learning_rate * w1_grad)\n",
    "    w2.assign_sub(learning_rate * w2_grad)\n",
    "    w3.assign_sub(learning_rate * w3_grad)\n",
    "    b.assign_sub(learning_rate * b_grad)\n",
    "    \n",
    "    if i%50==0:\n",
    "        print('{:5} | {:12.4f}'.format(i,cost.numpy()))"
   ]
  },
  {
   "cell_type": "code",
   "execution_count": 7,
   "metadata": {},
   "outputs": [
    {
     "name": "stdout",
     "output_type": "stream",
     "text": [
      "    0 |  1616.9104\n",
      "  100 |     7.0957\n",
      "  200 |     6.8741\n",
      "  300 |     6.8508\n",
      "  400 |     6.8277\n",
      "  500 |     6.8047\n",
      "  600 |     6.7818\n",
      "  700 |     6.7590\n",
      "  800 |     6.7363\n",
      "  900 |     6.7137\n",
      " 1000 |     6.6913\n",
      " 1100 |     6.6689\n",
      " 1200 |     6.6467\n",
      " 1300 |     6.6246\n",
      " 1400 |     6.6026\n",
      " 1500 |     6.5808\n",
      " 1600 |     6.5590\n",
      " 1700 |     6.5374\n",
      " 1800 |     6.5159\n",
      " 1900 |     6.4945\n",
      " 2000 |     6.4732\n"
     ]
    }
   ],
   "source": [
    "#matrix 사용 \n",
    "data = np.array([\n",
    "    # x1, x2, x3, y\n",
    "    [73., 80., 75., 152.],\n",
    "    [93.,88.,93.,185.],\n",
    "    [89.,91.,90.,180.],\n",
    "    [96.,98.,100.,196.],\n",
    "    [73.,66.,70.,142.]\n",
    "],dtype=np.float32)\n",
    "\n",
    "#slice data\n",
    "X=data[:, :-1] #첫컬럼부터 마지막 컬럼을 제외하고\n",
    "Y=data[:,[-1]]\n",
    "\n",
    "W=tf.Variable(tf.random_normal([3,1]))\n",
    "b = tf.Variable(tf.random_normal([1]))\n",
    "\n",
    "learning_rate=0.000001\n",
    "\n",
    "def predict(X):\n",
    "    return tf.matmul(X,W)+b\n",
    "\n",
    "n_epochs = 2000\n",
    "for i in range(n_epochs+1):\n",
    "    with tf.GradientTape() as tape:\n",
    "        cost =tf.reduce_mean(tf.square(predict(X)-Y))\n",
    "    W_grad, b_grad, = tape.gradient(cost,[W,b])\n",
    "    \n",
    "    W.assign_sub(learning_rate * W_grad)\n",
    "    b.assign_sub(learning_rate * b_grad)\n",
    "    \n",
    "    if i%100 ==0:\n",
    "        print(\"{:5} | {:10.4f}\".format(i,cost.numpy()))"
   ]
  },
  {
   "cell_type": "code",
   "execution_count": null,
   "metadata": {},
   "outputs": [],
   "source": []
  }
 ],
 "metadata": {
  "kernelspec": {
   "display_name": "Python 3",
   "language": "python",
   "name": "python3"
  },
  "language_info": {
   "codemirror_mode": {
    "name": "ipython",
    "version": 3
   },
   "file_extension": ".py",
   "mimetype": "text/x-python",
   "name": "python",
   "nbconvert_exporter": "python",
   "pygments_lexer": "ipython3",
   "version": "3.6.8"
  }
 },
 "nbformat": 4,
 "nbformat_minor": 2
}
