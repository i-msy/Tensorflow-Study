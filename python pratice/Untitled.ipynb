{
 "cells": [
  {
   "cell_type": "code",
   "execution_count": 1,
   "metadata": {},
   "outputs": [],
   "source": [
    "# N:숫자 개수 M:수의 변경횟수 K : 구간의 합 구하는 횟수  \n",
    "# a =1 이면 b번째 ~c번째 d 더하기\n",
    "# a=2 이면 b~c번째 까지 합 출력"
   ]
  },
  {
   "cell_type": "code",
   "execution_count": 8,
   "metadata": {},
   "outputs": [],
   "source": [
    "count = []\n",
    "arr = []\n"
   ]
  },
  {
   "cell_type": "code",
   "execution_count": 14,
   "metadata": {},
   "outputs": [],
   "source": [
    "def run(num,c):\n",
    "    if num == 1:\n",
    "        count.append(c)\n",
    "        return count\n",
    "    if num % 3 == 0:\n",
    "        run(num/3,c+1)\n",
    "    if num%2 ==0:\n",
    "        run(num/2,c+1)\n",
    "    run(num-1,c+1)  "
   ]
  },
  {
   "cell_type": "code",
   "execution_count": 15,
   "metadata": {},
   "outputs": [
    {
     "name": "stdout",
     "output_type": "stream",
     "text": [
      "None\n"
     ]
    }
   ],
   "source": [
    "print(run(5,0))"
   ]
  },
  {
   "cell_type": "code",
   "execution_count": null,
   "metadata": {},
   "outputs": [],
   "source": [
    "temp=[]\n",
    "temp=list(map(int,input().split()))\n",
    "print(type(temp[0]))\n",
    "print(temp)"
   ]
  },
  {
   "cell_type": "code",
   "execution_count": 9,
   "metadata": {},
   "outputs": [
    {
     "name": "stdout",
     "output_type": "stream",
     "text": [
      "5 2 2\n",
      "5 2 2\n"
     ]
    }
   ],
   "source": [
    "arr=[]\n",
    "result=[]\n",
    "count=0\n",
    "n ,m, k =map(int,input().split())\n",
    "print(n,m,k)"
   ]
  },
  {
   "cell_type": "code",
   "execution_count": 12,
   "metadata": {},
   "outputs": [
    {
     "name": "stdout",
     "output_type": "stream",
     "text": [
      "1\n",
      "2\n",
      "3\n",
      "4\n",
      "5\n",
      "[1, 2, 3, 4, 5, '1', '2', '3', '4', '5']\n"
     ]
    }
   ],
   "source": [
    "for i in range(n):\n",
    "    arr.append(input())\n",
    "print(arr)"
   ]
  },
  {
   "cell_type": "code",
   "execution_count": 5,
   "metadata": {},
   "outputs": [
    {
     "name": "stdout",
     "output_type": "stream",
     "text": [
      "1 3 4 6\n",
      "2 2 5\n",
      "1 1 3 -2\n",
      "2 2 5\n"
     ]
    }
   ],
   "source": [
    "while 1:\n",
    "    temp=[]\n",
    "    temp=list(map(int,input().split()))\n",
    "    start=temp[1]-1\n",
    "    end=temp[2]\n",
    "    if temp[0]==2:\n",
    "        sum=0\n",
    "        for i in arr[start:end]:\n",
    "            sum+=i\n",
    "        result.append(sum)\n",
    "        count+=1\n",
    "    else:\n",
    "        val=temp[3]\n",
    "        for i in range(start,end):\n",
    "            arr[i]+=val\n",
    "        count+=1\n",
    "    if count==m+k:\n",
    "        break"
   ]
  },
  {
   "cell_type": "code",
   "execution_count": 11,
   "metadata": {},
   "outputs": [
    {
     "name": "stdout",
     "output_type": "stream",
     "text": [
      "2 1 2\n",
      "3\n"
     ]
    }
   ],
   "source": [
    "temp=[]\n",
    "temp=list(map(int,input().split()))\n",
    "sum=0\n",
    "start=temp[1]-1\n",
    "end=temp[2]\n",
    "for i in arr[start:end]:\n",
    "    sum+=i\n",
    "print(sum)"
   ]
  },
  {
   "cell_type": "code",
   "execution_count": 4,
   "metadata": {},
   "outputs": [
    {
     "name": "stdout",
     "output_type": "stream",
     "text": [
      "hello\n",
      "hello\n",
      "hello\n"
     ]
    }
   ],
   "source": [
    "c=0\n",
    "while 1:\n",
    "    print(\"hello\")\n",
    "    c+=1\n",
    "    if(c==3):\n",
    "        break"
   ]
  },
  {
   "cell_type": "code",
   "execution_count": 6,
   "metadata": {},
   "outputs": [
    {
     "name": "stdout",
     "output_type": "stream",
     "text": [
      "[26, 22]\n"
     ]
    }
   ],
   "source": [
    "print(result)"
   ]
  },
  {
   "cell_type": "code",
   "execution_count": 7,
   "metadata": {},
   "outputs": [
    {
     "name": "stdout",
     "output_type": "stream",
     "text": [
      "26\n",
      "22\n"
     ]
    }
   ],
   "source": [
    "for i in result:\n",
    "    print(i)"
   ]
  },
  {
   "cell_type": "code",
   "execution_count": 8,
   "metadata": {},
   "outputs": [
    {
     "name": "stdout",
     "output_type": "stream",
     "text": [
      "5 2 2\n",
      "1\n",
      "2\n",
      "3\n",
      "4\n",
      "5\n",
      "1 3 4 6\n",
      "2 2 5\n",
      "1 1 3 -2\n",
      "2 2 5\n",
      "26\n",
      "22\n"
     ]
    }
   ],
   "source": [
    "arr=[]\n",
    "result=[]\n",
    "count=0\n",
    "n ,m, k =map(int,input().split())\n",
    "for i in range(n):\n",
    "    arr.append(int(input()))\n",
    "while 1:\n",
    "    temp=[]\n",
    "    temp=list(map(int,input().split()))\n",
    "    if len(temp)==3:\n",
    "        sum=0\n",
    "        start=temp[1]-1\n",
    "        end=temp[2]\n",
    "        for i in arr[start:end]:\n",
    "            sum+=int(i)\n",
    "        result.append(sum)\n",
    "        count+=1\n",
    "    else:\n",
    "        start=temp[1]-1\n",
    "        end=temp[2]\n",
    "        val=temp[3]\n",
    "        for i in range(start,end):\n",
    "            arr[i]+=val\n",
    "        count+=1\n",
    "    if count==m+k:\n",
    "        break\n",
    "for i in result:\n",
    "    print(i)"
   ]
  },
  {
   "cell_type": "code",
   "execution_count": null,
   "metadata": {},
   "outputs": [],
   "source": [
    "\\    /\\\n",
    " )  ( ')\n",
    "(  /  )\n",
    " \\(__)|\n"
   ]
  },
  {
   "cell_type": "code",
   "execution_count": 17,
   "metadata": {},
   "outputs": [
    {
     "name": "stdout",
     "output_type": "stream",
     "text": [
      "\\    /\\\n",
      " )  ( ')\n",
      "(  /  )\n",
      " \\(__)|\n"
     ]
    }
   ],
   "source": [
    "print(\"\\    /\\\\\")\n",
    "print(\" )  ( ')\")\n",
    "print(\"(  /  )\")\n",
    "print(\" \\(__)|\")"
   ]
  },
  {
   "cell_type": "code",
   "execution_count": 21,
   "metadata": {},
   "outputs": [
    {
     "name": "stdout",
     "output_type": "stream",
     "text": [
      "472\n",
      "385\n",
      "2360 3776 1416\n"
     ]
    }
   ],
   "source": [
    "num=[]\n",
    "result=[]\n",
    "for i in range(2):\n",
    "    num.append(int(input()))\n",
    "result.append(num[0]*(num[1]%10))\n",
    "num[1]=int(num[1]/10)\n",
    "val4=num[0]*(num[1]%10)\n",
    "num[1]=int(num[1]/10)\n",
    "val5=num[0]*(num[1]%10)\n",
    "val6=val3+val4+val5\n",
    "print(val3,val4,val5)"
   ]
  },
  {
   "cell_type": "markdown",
   "metadata": {},
   "source": [
    "num1,num2=[]"
   ]
  },
  {
   "cell_type": "code",
   "execution_count": 26,
   "metadata": {},
   "outputs": [
    {
     "name": "stdout",
     "output_type": "stream",
     "text": [
      "472\n",
      "385\n",
      "2360 \n",
      " 3776 \n",
      " 1416 \n",
      " 181720\n"
     ]
    }
   ],
   "source": [
    "num=[]\n",
    "for i in range(2):\n",
    "    num.append(int(input()))\n",
    "val3=num[0]*(num[1]%10)\n",
    "num[1]=int(num[1]/10)\n",
    "val4=num[0]*(num[1]%10)\n",
    "num[1]=int(num[1]/10)\n",
    "val5=num[0]*(num[1]%10)\n",
    "val6=val3+val4*10+val5*100\n",
    "print(val3,\"\\n\",val4,\"\\n\",val5,\"\\n\",val6)"
   ]
  },
  {
   "cell_type": "code",
   "execution_count": 29,
   "metadata": {},
   "outputs": [
    {
     "name": "stdout",
     "output_type": "stream",
     "text": [
      "472\n",
      "385\n",
      "2360\n",
      "3776\n",
      "1416\n",
      "181720\n"
     ]
    }
   ],
   "source": [
    "a,b=int(input()),input()\n",
    "c=reversed(b)\n",
    "for i in map(int,c):\n",
    "    print(a*i)\n",
    "print(a*int(b))"
   ]
  },
  {
   "cell_type": "code",
   "execution_count": 41,
   "metadata": {},
   "outputs": [
    {
     "name": "stdout",
     "output_type": "stream",
     "text": [
      "     *\n",
      "    ***\n",
      "   *****\n",
      "  *******\n",
      " *********\n"
     ]
    }
   ],
   "source": [
    "n=5\n",
    "j=n-1\n",
    "for i in range(n):\n",
    "    j=n-i\n",
    "    while(j>0):\n",
    "        print(\" \",end='')\n",
    "        j-=1\n",
    "    for k in range(i*2+1):\n",
    "        print(\"*\",end='')\n",
    "    print()"
   ]
  },
  {
   "cell_type": "code",
   "execution_count": 34,
   "metadata": {},
   "outputs": [
    {
     "name": "stdout",
     "output_type": "stream",
     "text": [
      "123"
     ]
    }
   ],
   "source": [
    "arr=[1,2,3]\n",
    "for i in arr:\n",
    "    print(i,end='')"
   ]
  },
  {
   "cell_type": "code",
   "execution_count": 45,
   "metadata": {},
   "outputs": [
    {
     "name": "stdout",
     "output_type": "stream",
     "text": [
      "5\n",
      "    *\n",
      "   ***\n",
      "  *****\n",
      " *******\n",
      "*********\n"
     ]
    }
   ],
   "source": [
    "n=int(input())\n",
    "j=n-1\n",
    "for i in range(n):\n",
    "    j=n-i-1\n",
    "    while(j>0):\n",
    "        j-=1\n",
    "        print(\" \",end='')\n",
    "        \n",
    "    for k in range(i*2+1):\n",
    "        print(\"*\",end='')\n",
    "    print()"
   ]
  },
  {
   "cell_type": "code",
   "execution_count": 61,
   "metadata": {},
   "outputs": [
    {
     "name": "stdout",
     "output_type": "stream",
     "text": [
      "1\n",
      "0\n"
     ]
    }
   ],
   "source": [
    "num=int(input())\n",
    "count=0\n",
    "while(num!=1):\n",
    "    if num%3==0:\n",
    "        num/=3\n",
    "    elif (num-1)%3==0:\n",
    "            num-=1\n",
    "    elif num%2==0:\n",
    "        num/=2\n",
    "    else:\n",
    "        num-=1\n",
    "    count+=1\n",
    "    print(num)\n",
    "print(count)"
   ]
  },
  {
   "cell_type": "code",
   "execution_count": 72,
   "metadata": {},
   "outputs": [
    {
     "name": "stdout",
     "output_type": "stream",
     "text": [
      "16\n",
      "4\n"
     ]
    }
   ],
   "source": [
    "n=int(input())\n",
    "count=0\n",
    "minn=[n]\n",
    "def cal(n):\n",
    "    list=[]\n",
    "    for i in n:\n",
    "        list.append(i-1)\n",
    "        if i%3==0:\n",
    "            list.append(i/3)\n",
    "        if i%2==0:\n",
    "            list.append(i/2)\n",
    "    return list\n",
    "1\n",
    "while True:\n",
    "    if n==1:\n",
    "        print(count)\n",
    "        break\n",
    "    temp = minn[:]\n",
    "    minn = []\n",
    "    minn = cal(temp)\n",
    "    count+=1\n",
    "    if min(minn)==1:\n",
    "        print(count)\n",
    "        break"
   ]
  },
  {
   "cell_type": "code",
   "execution_count": 74,
   "metadata": {},
   "outputs": [
    {
     "name": "stdout",
     "output_type": "stream",
     "text": [
      "5\n",
      "[5]\n"
     ]
    }
   ],
   "source": [
    "n=int(input())\n",
    "count=0\n",
    "minn=[n]\n",
    "print(minn)"
   ]
  },
  {
   "cell_type": "code",
   "execution_count": 82,
   "metadata": {},
   "outputs": [
    {
     "name": "stdout",
     "output_type": "stream",
     "text": [
      "1 , 2\n",
      "1 , 3\n",
      "1 , 4\n",
      "1 , 5\n",
      "2 , 3\n",
      "2 , 4\n",
      "2 , 5\n",
      "3 , 4\n",
      "3 , 5\n",
      "4 , 5\n"
     ]
    }
   ],
   "source": [
    "list=[1,2,3,4,5]\n",
    "for i in list:\n",
    "    for j in list[]"
   ]
  },
  {
   "cell_type": "code",
   "execution_count": 10,
   "metadata": {},
   "outputs": [],
   "source": [
    "from PIL import Image\n",
    "import imagehash"
   ]
  },
  {
   "cell_type": "code",
   "execution_count": 11,
   "metadata": {},
   "outputs": [],
   "source": [
    "def ImageHash(img_path):\n",
    "    img = Image.open(img_path)\n",
    "    hash=imagehash.average_hash(img)\n",
    "    return hash"
   ]
  },
  {
   "cell_type": "code",
   "execution_count": 94,
   "metadata": {},
   "outputs": [
    {
     "name": "stdout",
     "output_type": "stream",
     "text": [
      "f0fc9ecee6400000\n"
     ]
    }
   ],
   "source": [
    "print(ImageHash(\"C:/Users/simc2/OneDrive/Pictures/2018-12/IMG_7100 (1).JPG\"))"
   ]
  },
  {
   "cell_type": "code",
   "execution_count": 107,
   "metadata": {},
   "outputs": [],
   "source": [
    "hash=ImageHash(\"C:/Users/simc2/OneDrive/Pictures/2018-12/IMG_7100.JPG\")"
   ]
  },
  {
   "cell_type": "code",
   "execution_count": 102,
   "metadata": {},
   "outputs": [],
   "source": [
    "dic={}\n",
    "arr=[]"
   ]
  },
  {
   "cell_type": "code",
   "execution_count": 108,
   "metadata": {},
   "outputs": [
    {
     "data": {
      "text/plain": [
       "'f0fc9ecee6400000'"
      ]
     },
     "execution_count": 108,
     "metadata": {},
     "output_type": "execute_result"
    }
   ],
   "source": [
    "str(hash)"
   ]
  },
  {
   "cell_type": "code",
   "execution_count": 106,
   "metadata": {},
   "outputs": [
    {
     "ename": "SyntaxError",
     "evalue": "unexpected EOF while parsing (<ipython-input-106-07beda963b53>, line 1)",
     "output_type": "error",
     "traceback": [
      "\u001b[1;36m  File \u001b[1;32m\"<ipython-input-106-07beda963b53>\"\u001b[1;36m, line \u001b[1;32m1\u001b[0m\n\u001b[1;33m    arr.append(str(ImageHash(\"C:/Users/simc2/OneDrive/Pictures/2018-12/IMG_7100.JPG\"))\u001b[0m\n\u001b[1;37m                                                                                      ^\u001b[0m\n\u001b[1;31mSyntaxError\u001b[0m\u001b[1;31m:\u001b[0m unexpected EOF while parsing\n"
     ]
    }
   ],
   "source": [
    "arr.append(str(ImageHash(\"C:/Users/simc2/OneDrive/Pictures/2018-12/IMG_7100.JPG\"))"
   ]
  },
  {
   "cell_type": "code",
   "execution_count": 105,
   "metadata": {},
   "outputs": [
    {
     "data": {
      "text/plain": [
       "imagehash.ImageHash"
      ]
     },
     "execution_count": 105,
     "metadata": {},
     "output_type": "execute_result"
    }
   ],
   "source": [
    "type(arr[0])"
   ]
  },
  {
   "cell_type": "code",
   "execution_count": 113,
   "metadata": {},
   "outputs": [],
   "source": [
    "dic[ImageHash(\"C:/Users/simc2/OneDrive/Pictures/2018-12/IMG_7100.JPG\")]=\"C:/Users/simc2/OneDrive/Pictures/2018-12/IMG_7100.JPG\"\n"
   ]
  },
  {
   "cell_type": "code",
   "execution_count": 115,
   "metadata": {},
   "outputs": [
    {
     "name": "stdout",
     "output_type": "stream",
     "text": [
      "C:/Users/simc2/OneDrive/Pictures/2018-12/IMG_7100.JPG\n"
     ]
    }
   ],
   "source": [
    "for hash,path in dic.items():\n",
    "    if hash == ImageHash(\"C:/Users/simc2/OneDrive/Pictures/2018-12/IMG_7100.JPG\"):\n",
    "        print(path)"
   ]
  },
  {
   "cell_type": "code",
   "execution_count": 145,
   "metadata": {},
   "outputs": [],
   "source": [
    "arr=[]"
   ]
  },
  {
   "cell_type": "code",
   "execution_count": 146,
   "metadata": {},
   "outputs": [],
   "source": [
    "arr.append(ImageHash(\"C:/Users/simc2/OneDrive/Pictures/2018-12/IMG_0091.JPG\"))\n",
    "arr.append(ImageHash(\"C:/Users/simc2/OneDrive/Pictures/2018-12/IMG_0092.JPG\"))"
   ]
  },
  {
   "cell_type": "code",
   "execution_count": 149,
   "metadata": {},
   "outputs": [],
   "source": [
    "h = ImageHash(\"C:/Users/simc2/OneDrive/Pictures/2018-12/IMG_0093.JPG\")"
   ]
  },
  {
   "cell_type": "code",
   "execution_count": 151,
   "metadata": {},
   "outputs": [
    {
     "name": "stdout",
     "output_type": "stream",
     "text": [
      "e0f0f8e0f0f8dcd8\n"
     ]
    }
   ],
   "source": [
    "print(ImageHash(\"C:/Users/simc2/OneDrive/Pictures/스크린샷/IMG_0074.JPG\"))"
   ]
  },
  {
   "cell_type": "code",
   "execution_count": 152,
   "metadata": {},
   "outputs": [
    {
     "name": "stdout",
     "output_type": "stream",
     "text": [
      "e0f0f8e0f0f8dcd8\n"
     ]
    }
   ],
   "source": [
    "print(ImageHash(\"C:/Users/simc2/OneDrive/Pictures/스크린샷/IMG_0072.JPG\"))"
   ]
  },
  {
   "cell_type": "code",
   "execution_count": 14,
   "metadata": {},
   "outputs": [
    {
     "name": "stdout",
     "output_type": "stream",
     "text": [
      "06868cec2e4cc606\n",
      "06868cec2e4cc606\n"
     ]
    }
   ],
   "source": [
    "print(ImageHash(\"C:/Users/simc2/OneDrive/Pictures/2018-12/IMG_0162.JPG\"))\n",
    "print(ImageHash(\"C:/Users/simc2/OneDrive/Pictures/2018-12/IMG_0163.JPG\"))"
   ]
  },
  {
   "cell_type": "code",
   "execution_count": 140,
   "metadata": {},
   "outputs": [],
   "source": [
    "print(ImageHash(\"C:/Users/simc2/OneDrive/Pictures/2018-12/IMG_0163.JPG\"))"
   ]
  },
  {
   "cell_type": "code",
   "execution_count": 138,
   "metadata": {},
   "outputs": [
    {
     "name": "stdout",
     "output_type": "stream",
     "text": [
      "jpg\n",
      "JPG\n",
      "png\n"
     ]
    }
   ],
   "source": [
    "for filter in filter:\n",
    "    print(filter)"
   ]
  },
  {
   "cell_type": "code",
   "execution_count": 143,
   "metadata": {},
   "outputs": [],
   "source": [
    "arr=[1,2,3,4,5]\n",
    "temp=[1,2]"
   ]
  },
  {
   "cell_type": "code",
   "execution_count": 1,
   "metadata": {},
   "outputs": [],
   "source": [
    "arr=[[\"C:/Users/simc2/OneDrive/Pictures/스크린샷/IMG_0072.JPG\",\"C:/Users/simc2/OneDrive/Pictures/스크린샷/IMG_0072.JPG\"]]"
   ]
  },
  {
   "cell_type": "code",
   "execution_count": 2,
   "metadata": {},
   "outputs": [],
   "source": [
    "t=[]"
   ]
  },
  {
   "cell_type": "code",
   "execution_count": 5,
   "metadata": {},
   "outputs": [
    {
     "data": {
      "text/plain": [
       "'C:/Users/simc2/OneDrive/Pictures/스크린샷/IMG_0072.JPG'"
      ]
     },
     "execution_count": 5,
     "metadata": {},
     "output_type": "execute_result"
    }
   ],
   "source": [
    "arr[0][0]"
   ]
  },
  {
   "cell_type": "code",
   "execution_count": 6,
   "metadata": {},
   "outputs": [],
   "source": [
    "t.append(arr[0][0].split('/')[-1]+\" - \"+arr[0][1].split('/')[-1])"
   ]
  },
  {
   "cell_type": "code",
   "execution_count": 7,
   "metadata": {},
   "outputs": [
    {
     "data": {
      "text/plain": [
       "['IMG_0072.JPG-IMG_0072.JPG']"
      ]
     },
     "execution_count": 7,
     "metadata": {},
     "output_type": "execute_result"
    }
   ],
   "source": [
    "t"
   ]
  },
  {
   "cell_type": "code",
   "execution_count": null,
   "metadata": {},
   "outputs": [],
   "source": []
  }
 ],
 "metadata": {
  "kernelspec": {
   "display_name": "Python 3",
   "language": "python",
   "name": "python3"
  },
  "language_info": {
   "codemirror_mode": {
    "name": "ipython",
    "version": 3
   },
   "file_extension": ".py",
   "mimetype": "text/x-python",
   "name": "python",
   "nbconvert_exporter": "python",
   "pygments_lexer": "ipython3",
   "version": "3.8.1"
  }
 },
 "nbformat": 4,
 "nbformat_minor": 4
}
