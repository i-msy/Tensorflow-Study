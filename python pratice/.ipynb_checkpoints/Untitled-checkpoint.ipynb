{
 "cells": [
  {
   "cell_type": "code",
   "execution_count": 1,
   "metadata": {},
   "outputs": [],
   "source": [
    "# N:숫자 개수 M:수의 변경횟수 K : 구간의 합 구하는 횟수  \n",
    "# a =1 이면 b번째 ~c번째 d 더하기\n",
    "# a=2 이면 b~c번째 까지 합 출력"
   ]
  },
  {
   "cell_type": "code",
   "execution_count": null,
   "metadata": {},
   "outputs": [],
   "source": [
    "arr=[]\n",
    "result=[]\n",
    "count=0\n",
    "n ,m, k =map(int,input().split())\n",
    "for i in range(n):\n",
    "    arr.append(int(input()))\n",
    "while count!=m+k:\n",
    "    temp=[]\n",
    "    temp=list(map(int,input().split()))\n",
    "    if len(temp)==3:\n",
    "        sum=0\n",
    "        start=temp[1]-1\n",
    "        end=temp[2]\n",
    "        for i in arr[start:end]:\n",
    "            sum+=int(i)\n",
    "        result.append(sum)\n",
    "        count+=1\n",
    "    else:\n",
    "        start=temp[1]-1\n",
    "        end=temp[2]\n",
    "        val=temp[3]\n",
    "        for i in range(start,end):\n",
    "            arr[i]+=val\n",
    "        count+=1\n",
    "print(result)"
   ]
  },
  {
   "cell_type": "code",
   "execution_count": 21,
   "metadata": {},
   "outputs": [
    {
     "name": "stdout",
     "output_type": "stream",
     "text": [
      "26\n"
     ]
    }
   ],
   "source": [
    "sum=0\n",
    "arr=[1,2,9,10,5]\n",
    "temp=[2,2,5]\n",
    "start=temp[1]-1\n",
    "end=temp[2]\n",
    "for i in arr[start:end]:\n",
    "    sum+=i\n",
    "print(sum)"
   ]
  },
  {
   "cell_type": "code",
   "execution_count": 27,
   "metadata": {},
   "outputs": [
    {
     "name": "stdout",
     "output_type": "stream",
     "text": [
      "[1, 2, 9, 10, 5]\n",
      "[1, 2, 9, 10, 5]\n",
      "[1, 2, 9, 10, 5]\n",
      "[1, 2, 9, 10, 5]\n",
      "[1, 2, 9, 10, 5]\n"
     ]
    }
   ],
   "source": [
    "arr=[1,2,3,4,5]\n",
    "temp=[1,3,4,6]\n",
    "count=0\n",
    "start=temp[1]-1\n",
    "end=temp[2]\n",
    "val=temp[3]\n",
    "for i in range(start,end):\n",
    "    arr[i]+=val\n",
    "    count+=1\n",
    "for i in range(5):\n",
    "    print(arr)"
   ]
  },
  {
   "cell_type": "code",
   "execution_count": null,
   "metadata": {},
   "outputs": [],
   "source": [
    "temp=[]\n",
    "temp=list(map(int,input().split()))\n",
    "print(type(temp[0]))\n",
    "print(temp)"
   ]
  },
  {
   "cell_type": "code",
   "execution_count": 1,
   "metadata": {},
   "outputs": [
    {
     "name": "stdout",
     "output_type": "stream",
     "text": [
      "5 2 2\n",
      "5 2 2\n"
     ]
    }
   ],
   "source": [
    "arr=[]\n",
    "result=[]\n",
    "count=0\n",
    "n ,m, k =map(int,input().split())\n",
    "print(n,m,k)"
   ]
  },
  {
   "cell_type": "code",
   "execution_count": 2,
   "metadata": {},
   "outputs": [
    {
     "name": "stdout",
     "output_type": "stream",
     "text": [
      "1\n",
      "2\n",
      "3\n",
      "4\n",
      "5\n",
      "[1, 2, 3, 4, 5]\n"
     ]
    }
   ],
   "source": [
    "for i in range(n):\n",
    "    arr.append(int(input()))\n",
    "print(arr)"
   ]
  },
  {
   "cell_type": "code",
   "execution_count": null,
   "metadata": {},
   "outputs": [],
   "source": [
    "while true:\n",
    "    temp=[]\n",
    "    temp=list(map(int,input().split()))\n",
    "    if len(temp)==3:\n",
    "        sum=0\n",
    "        start=temp[1]-1\n",
    "        end=temp[2]\n",
    "        for i in arr[start:end]:\n",
    "            sum+=int(i)\n",
    "        result.append(sum)\n",
    "        count+=1\n",
    "    else:\n",
    "        start=temp[1]-1\n",
    "        end=temp[2]\n",
    "        val=temp[3]\n",
    "        for i in range(start,end):\n",
    "            arr[i]+=val\n",
    "        count+=1"
   ]
  },
  {
   "cell_type": "code",
   "execution_count": 4,
   "metadata": {},
   "outputs": [
    {
     "name": "stdout",
     "output_type": "stream",
     "text": [
      "hello\n",
      "hello\n",
      "hello\n"
     ]
    }
   ],
   "source": [
    "c=0\n",
    "while 1:\n",
    "    print(\"hello\")\n",
    "    c+=1\n",
    "    if(c==3):\n",
    "        break"
   ]
  },
  {
   "cell_type": "code",
   "execution_count": null,
   "metadata": {},
   "outputs": [],
   "source": []
  }
 ],
 "metadata": {
  "kernelspec": {
   "display_name": "Python 3",
   "language": "python",
   "name": "python3"
  },
  "language_info": {
   "codemirror_mode": {
    "name": "ipython",
    "version": 3
   },
   "file_extension": ".py",
   "mimetype": "text/x-python",
   "name": "python",
   "nbconvert_exporter": "python",
   "pygments_lexer": "ipython3",
   "version": "3.7.6"
  }
 },
 "nbformat": 4,
 "nbformat_minor": 4
}
