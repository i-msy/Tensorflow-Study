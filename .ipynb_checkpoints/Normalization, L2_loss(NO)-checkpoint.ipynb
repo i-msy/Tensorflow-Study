{
 "cells": [
  {
   "cell_type": "code",
   "execution_count": 1,
   "metadata": {},
   "outputs": [],
   "source": [
    "import numpy as np\n",
    "import tensorflow as tf\n",
    "import matplotlib.pyplot as plt\n",
    "%matplotlib inline\n",
    "\n",
    "tf.random.set_seed(777)"
   ]
  },
  {
   "cell_type": "code",
   "execution_count": 2,
   "metadata": {},
   "outputs": [
    {
     "data": {
      "image/png": "[encoded data removed]",
      "text/plain": [
       "<Figure size 432x288 with 1 Axes>"
      ]
     },
     "metadata": {
      "needs_background": "light"
     },
     "output_type": "display_data"
    }
   ],
   "source": [
    "\n",
    "xy = np.array([[828.659973, 833.450012, 908100, 828.349976, 831.659973],\n",
    "               [823.02002, 828.070007, 1828100, 821.655029, 828.070007],\n",
    "               [819.929993, 824.400024, 1438100, 818.97998, 824.159973],\n",
    "               [816, 820.958984, 1008100, 815.48999, 819.23999],\n",
    "               [819.359985, 823, 1188100, 818.469971, 818.97998],\n",
    "               [819, 823, 1198100, 816, 820.450012],\n",
    "               [811.700012, 815.25, 1098100, 809.780029, 813.669983],\n",
    "               [809.51001, 816.659973, 1398100, 804.539978, 809.559998]])\n",
    "\n",
    "x_train = xy[:, 0:-1]\n",
    "y_train = xy[:, [-1]]\n",
    "\n",
    "plt.plot(x_train, 'ro')\n",
    "plt.plot(y_train)\n",
    "plt.show()\n",
    "# 특정 값들이 너무 커서 값이 제대로 파악되지 않는 것이 보인다."
   ]
  },
  {
   "cell_type": "code",
   "execution_count": 3,
   "metadata": {},
   "outputs": [],
   "source": [
    "dataset = tf.data.Dataset.from_tensor_slices((x_train,y_train)).batch(len(x_train))"
   ]
  },
  {
   "cell_type": "code",
   "execution_count": 4,
   "metadata": {},
   "outputs": [],
   "source": [
    "W=tf.Variable(tf.random.normal((4,1)),dtype=tf.float32)\n",
    "b=tf.Variable(tf.random.normal((1,)),dtype=tf.float32)"
   ]
  },
  {
   "cell_type": "code",
   "execution_count": 12,
   "metadata": {},
   "outputs": [],
   "source": [
    "def linearReg_fn(features):\n",
    "    hypothesis = tf.matmul(features,W)+b\n",
    "    return hypothesis"
   ]
  },
  {
   "cell_type": "code",
   "execution_count": 6,
   "metadata": {},
   "outputs": [],
   "source": [
    "def loss_fn(hypothesis, features, labes):\n",
    "    cost = tf.reduce_mean(tf.square(hypothesis-labels))\n",
    "    return cost"
   ]
  },
  {
   "cell_type": "code",
   "execution_count": 8,
   "metadata": {},
   "outputs": [],
   "source": [
    "optimizer = tf.keras.optimizers.SGD(learning_rate=1e-5)\n",
    "\n",
    "def grad(hypothesis,features,labels):\n",
    "    with tf.GradientTape() as tape:\n",
    "        loss_value = loss_fn(linearReg_fn(features),features,labels)\n",
    "    return tape.gradient(loss_value,[W,b]), loss_value"
   ]
  },
  {
   "cell_type": "code",
   "execution_count": 14,
   "metadata": {},
   "outputs": [
    {
     "name": "stdout",
     "output_type": "stream",
     "text": [
      "Iter: 0,Loss: 5643738691255766863577088.0000\n",
      "Iter: 10,Loss: nan\n",
      "Iter: 20,Loss: nan\n",
      "Iter: 30,Loss: nan\n",
      "Iter: 40,Loss: nan\n",
      "Iter: 50,Loss: nan\n",
      "Iter: 60,Loss: nan\n",
      "Iter: 70,Loss: nan\n",
      "Iter: 80,Loss: nan\n",
      "Iter: 90,Loss: nan\n",
      "Iter: 100,Loss: nan\n"
     ]
    }
   ],
   "source": [
    "EPOCHS = 101\n",
    "\n",
    "for step in range(EPOCHS):\n",
    "    for features, labels in iter(dataset):\n",
    "        features = tf.cast(features,tf.float32)\n",
    "        labels = tf.cast(labels, tf.float32)\n",
    "        grads, loss_value = grad(linearReg_fn(features),features,labels)\n",
    "        optimizer.apply_gradients(grads_and_vars=zip(grads,[W,b]))\n",
    "        if step%10==0:\n",
    "            print(\"Iter: {},Loss: {:.4f}\".format(step,loss_value))\n",
    "            \n",
    "#정규화 되지 않은 데이터로 진행할 경우 결과가 엉망으로 나온다"
   ]
  },
  {
   "cell_type": "code",
   "execution_count": null,
   "metadata": {},
   "outputs": [],
   "source": []
  }
 ],
 "metadata": {
  "kernelspec": {
   "display_name": "Python 3",
   "language": "python",
   "name": "python3"
  },
  "language_info": {
   "codemirror_mode": {
    "name": "ipython",
    "version": 3
   },
   "file_extension": ".py",
   "mimetype": "text/x-python",
   "name": "python",
   "nbconvert_exporter": "python",
   "pygments_lexer": "ipython3",
   "version": "3.7.6"
  }
 },
 "nbformat": 4,
 "nbformat_minor": 4
}
