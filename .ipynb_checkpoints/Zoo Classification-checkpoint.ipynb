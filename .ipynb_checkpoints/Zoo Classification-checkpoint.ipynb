{
 "cells": [
  {
   "cell_type": "code",
   "execution_count": 1,
   "metadata": {},
   "outputs": [],
   "source": [
    "import tensorflow as tf\n",
    "import numpy as np\n",
    "\n",
    "tf.random.set_seed(777)"
   ]
  },
  {
   "cell_type": "code",
   "execution_count": 6,
   "metadata": {},
   "outputs": [
    {
     "name": "stdout",
     "output_type": "stream",
     "text": [
      "(101, 16) (101, 7)\n"
     ]
    }
   ],
   "source": [
    "xy=np.loadtxt('data-04-zoo.csv',delimiter=',',dtype=np.float32)\n",
    "x_data=xy[:,0:-1]\n",
    "y_data=xy[:,-1]\n",
    "\n",
    "nb_classes=7\n",
    "Y_one_hot = tf.one_hot(y_data.astype(np.int32),nb_classes)\n",
    "\n",
    "print(x_data.shape,Y_one_hot.shape)"
   ]
  },
  {
   "cell_type": "code",
   "execution_count": 7,
   "metadata": {},
   "outputs": [],
   "source": [
    "W=tf.Variable(tf.random.normal((16,nb_classes)),name='weight')\n",
    "b=tf.Variable(tf.random.normal((nb_classes,)),name='bias')\n",
    "variables=[W,b]\n",
    "\n",
    "def logit_fn(X):\n",
    "    return tf.matmul(X,W)+b\n",
    "\n",
    "def hypothesis(X):\n",
    "    return tf.nn.softmax(logit_fn(X))\n",
    "\n",
    "def cost_fn(X,Y):\n",
    "    logits = logit_fn(X)\n",
    "    cost_i=tf.keras.losses.categorical_crossentropy(y_true=Y,y_pred=logits,from_logits=True)\n",
    "    \n",
    "    cost=tf.reduce_mean(cost_i)\n",
    "    return cost\n",
    "\n",
    "def grad_fn(X,Y):\n",
    "    with tf.GradientTape() as tape:\n",
    "        loss = cost_fn(X,Y)\n",
    "        grads = tape.gradient(loss,variables)\n",
    "        return grads\n",
    "    \n",
    "def prediction(X,Y):\n",
    "    pred = tf.argmax(hypothesis(X),1)\n",
    "    correct_prediction = tf.equal(pred,tf.argmax(Y,1))\n",
    "    accuracy = tf.reduce_sum(tf.cast(correct_prediction,tf.float32))\n",
    "    \n",
    "    return accuracy"
   ]
  },
  {
   "cell_type": "code",
   "execution_count": 9,
   "metadata": {},
   "outputs": [
    {
     "name": "stdout",
     "output_type": "stream",
     "text": [
      "Steps: 1 Loss: 3.6350290775299072, Acc: 17.0\n",
      "Steps: 100 Loss: 0.5194158554077148, Acc: 80.0\n",
      "Steps: 200 Loss: 0.31850090622901917, Acc: 92.0\n",
      "Steps: 300 Loss: 0.23534876108169556, Acc: 95.0\n",
      "Steps: 400 Loss: 0.18872138857841492, Acc: 96.0\n",
      "Steps: 500 Loss: 0.1584603488445282, Acc: 96.0\n",
      "Steps: 600 Loss: 0.13703757524490356, Acc: 100.0\n",
      "Steps: 700 Loss: 0.12098980695009232, Acc: 100.0\n",
      "Steps: 800 Loss: 0.10847964882850647, Acc: 101.0\n",
      "Steps: 900 Loss: 0.09843039512634277, Acc: 101.0\n",
      "Steps: 1000 Loss: 0.09016556292772293, Acc: 101.0\n"
     ]
    }
   ],
   "source": [
    "def fit(X,Y,epochs=1000,verbose=100):\n",
    "    optimizer = tf.keras.optimizers.SGD(learning_rate=0.1)\n",
    "    \n",
    "    for i in range(epochs):\n",
    "        grads=grad_fn(X,Y)\n",
    "        optimizer.apply_gradients(zip(grads,variables))\n",
    "        if (i==0) | ((i+1)%100==0):\n",
    "            acc=prediction(X,Y).numpy()\n",
    "            loss=cost_fn(X,Y).numpy()\n",
    "            print('Steps: {} Loss: {}, Acc: {}'.format(i+1,loss,acc))\n",
    "            \n",
    "fit(x_data,Y_one_hot)"
   ]
  },
  {
   "cell_type": "code",
   "execution_count": null,
   "metadata": {},
   "outputs": [],
   "source": []
  }
 ],
 "metadata": {
  "kernelspec": {
   "display_name": "Python 3",
   "language": "python",
   "name": "python3"
  },
  "language_info": {
   "codemirror_mode": {
    "name": "ipython",
    "version": 3
   },
   "file_extension": ".py",
   "mimetype": "text/x-python",
   "name": "python",
   "nbconvert_exporter": "python",
   "pygments_lexer": "ipython3",
   "version": "3.7.6"
  }
 },
 "nbformat": 4,
 "nbformat_minor": 4
}
