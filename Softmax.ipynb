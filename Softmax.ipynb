{
 "cells": [
  {
   "cell_type": "code",
   "execution_count": 1,
   "metadata": {},
   "outputs": [
    {
     "name": "stdout",
     "output_type": "stream",
     "text": [
      "2.0.0\n"
     ]
    }
   ],
   "source": [
    "import tensorflow as tf\n",
    "import numpy as np\n",
    "print(tf.__version__)\n",
    "tf.random.set_seed(777)"
   ]
  },
  {
   "cell_type": "code",
   "execution_count": 2,
   "metadata": {},
   "outputs": [],
   "source": [
    "x_data = [[1, 2, 1, 1],\n",
    "          [2, 1, 3, 2],\n",
    "          [3, 1, 3, 4],\n",
    "          [4, 1, 5, 5],\n",
    "          [1, 7, 5, 5],\n",
    "          [1, 2, 5, 6],\n",
    "          [1, 6, 6, 6],\n",
    "          [1, 7, 7, 7]]\n",
    "y_data = [[0, 0, 1],\n",
    "          [0, 0, 1],\n",
    "          [0, 0, 1],\n",
    "          [0, 1, 0],\n",
    "          [0, 1, 0],\n",
    "          [0, 1, 0],\n",
    "          [1, 0, 0],\n",
    "          [1, 0, 0]]\n",
    "\n",
    "#np.asarray() : 입력 데이터를 ndarray로 변환하나 이미 ndarray일 경우에는 새로 메모리에 array가 생성되지 않음\n",
    "#ndarray는 같은 종류의 데이터를 담을 수 있는 포괄적인 다차원 배열\n",
    "x_data =np.asarray(x_data,dtype=np.float32)\n",
    "y_data =np.asarray(y_data,dtype=np.float32)"
   ]
  },
  {
   "cell_type": "code",
   "execution_count": 3,
   "metadata": {},
   "outputs": [],
   "source": [
    "#dataset을 선언합니다.\n",
    "# dataset = tf.data.Dataset.from_tensor_slices((x_data, y_data))\n",
    "# dataset = dataset.repeat().batch(2)\n",
    "\n",
    "#class의 개수\n",
    "nb_classes = 3"
   ]
  },
  {
   "cell_type": "code",
   "execution_count": 4,
   "metadata": {},
   "outputs": [
    {
     "name": "stdout",
     "output_type": "stream",
     "text": [
      "<tf.Variable 'weight:0' shape=(4, 3) dtype=float32, numpy=\n",
      "array([[ 0.7706481 ,  0.37335402, -0.05576323],\n",
      "       [ 0.00358377, -0.5898363 ,  1.5702795 ],\n",
      "       [ 0.2460895 , -0.09918973,  1.4418385 ],\n",
      "       [ 0.3200988 ,  0.526784  , -0.7703731 ]], dtype=float32)> <tf.Variable 'bias:0' shape=(3,) dtype=float32, numpy=array([-1.3080608 , -0.13253094,  0.5513761 ], dtype=float32)>\n"
     ]
    }
   ],
   "source": [
    "#8x4 * 4*3 = 8x3\n",
    "W = tf.Variable(tf.random.normal((4,nb_classes)),name='weight')\n",
    "b = tf.Variable(tf.random.normal((nb_classes,)),name='bias')\n",
    "variables=[W,b]\n",
    "\n",
    "print(W,b)"
   ]
  },
  {
   "cell_type": "code",
   "execution_count": 5,
   "metadata": {},
   "outputs": [
    {
     "name": "stdout",
     "output_type": "stream",
     "text": [
      "tf.Tensor(\n",
      "[[1.36571955e-02 7.90162385e-03 9.78441238e-01]\n",
      " [3.92597765e-02 1.70347411e-02 9.43705440e-01]\n",
      " [3.80385250e-01 1.67723164e-01 4.51891571e-01]\n",
      " [3.23390484e-01 5.90759404e-02 6.17533624e-01]\n",
      " [3.62997412e-06 6.20727292e-08 9.99996305e-01]\n",
      " [2.62520202e-02 1.07279625e-02 9.63019967e-01]\n",
      " [1.56525111e-05 4.21802781e-07 9.99983907e-01]\n",
      " [2.94076904e-06 3.81133276e-08 9.99997020e-01]], shape=(8, 3), dtype=float32)\n"
     ]
    }
   ],
   "source": [
    "#softmax \n",
    "def hypothesis(X):\n",
    "    return tf.nn.softmax(tf.matmul(X,W)+b)\n",
    "\n",
    "print(hypothesis(x_data))"
   ]
  },
  {
   "cell_type": "code",
   "execution_count": 6,
   "metadata": {},
   "outputs": [
    {
     "name": "stdout",
     "output_type": "stream",
     "text": [
      "tf.Tensor(6.07932, shape=(), dtype=float32)\n"
     ]
    }
   ],
   "source": [
    "def cost_fn(X,Y):\n",
    "    logits = hypothesis(X)\n",
    "    cost = -tf.reduce_sum(Y*tf.math.log(logits),axis=1)\n",
    "    cost_mean = tf.reduce_mean(cost)\n",
    "    return cost_mean\n",
    "\n",
    "print(cost_fn(x_data,y_data))"
   ]
  },
  {
   "cell_type": "code",
   "execution_count": 7,
   "metadata": {},
   "outputs": [
    {
     "name": "stdout",
     "output_type": "stream",
     "text": [
      "[<tf.Tensor: id=94, shape=(4, 3), dtype=float32, numpy=\n",
      "array([[ 0.06914607, -0.6509784 ,  0.5818323 ],\n",
      "       [-1.5221257 , -1.214863  ,  2.7369885 ],\n",
      "       [-1.2473828 , -1.7611003 ,  3.008483  ],\n",
      "       [-1.2014606 , -1.8659233 ,  3.0673838 ]], dtype=float32)>, <tf.Tensor: id=93, shape=(3,), dtype=float32, numpy=array([-0.15212913, -0.34219202,  0.4943211 ], dtype=float32)>]\n"
     ]
    }
   ],
   "source": [
    "def grad_fn(X,Y):\n",
    "    with tf.GradientTape() as tape:\n",
    "        loss = cost_fn(X,Y)\n",
    "        grads = tape.gradient(loss,variables)\n",
    "        \n",
    "        return grads\n",
    "    \n",
    "print(grad_fn(x_data,y_data))"
   ]
  },
  {
   "cell_type": "code",
   "execution_count": 8,
   "metadata": {},
   "outputs": [
    {
     "name": "stdout",
     "output_type": "stream",
     "text": [
      "Loss at epoch 1: 2.849417\n",
      "Loss at epoch 100: 0.684151\n",
      "Loss at epoch 200: 0.613813\n",
      "Loss at epoch 300: 0.558204\n",
      "Loss at epoch 400: 0.508306\n",
      "Loss at epoch 500: 0.461059\n",
      "Loss at epoch 600: 0.415072\n",
      "Loss at epoch 700: 0.369636\n",
      "Loss at epoch 800: 0.324533\n",
      "Loss at epoch 900: 0.280721\n",
      "Loss at epoch 1000: 0.246752\n",
      "Loss at epoch 1100: 0.232798\n",
      "Loss at epoch 1200: 0.221645\n",
      "Loss at epoch 1300: 0.211476\n",
      "Loss at epoch 1400: 0.202164\n",
      "Loss at epoch 1500: 0.193606\n",
      "Loss at epoch 1600: 0.185714\n",
      "Loss at epoch 1700: 0.178415\n",
      "Loss at epoch 1800: 0.171645\n",
      "Loss at epoch 1900: 0.165351\n",
      "Loss at epoch 2000: 0.159483\n"
     ]
    }
   ],
   "source": [
    "def fit(X,Y, epochs=2000, verbose=100):\n",
    "    optimizer = tf.keras.optimizers.SGD(learning_rate=0.1)\n",
    "    for i in range(epochs):\n",
    "        grads=grad_fn(X,Y)\n",
    "        optimizer.apply_gradients(zip(grads,variables))\n",
    "        if(i==0)|((i+1)%verbose==0):\n",
    "            print('Loss at epoch %d: %f' %(i+1,cost_fn(X,Y).numpy()))\n",
    "            \n",
    "fit(x_data,y_data)"
   ]
  },
  {
   "cell_type": "code",
   "execution_count": 9,
   "metadata": {},
   "outputs": [
    {
     "name": "stdout",
     "output_type": "stream",
     "text": [
      "tf.Tensor([2 2 2 1 1 1 0 0], shape=(8,), dtype=int64)\n",
      "tf.Tensor([2 2 2 1 1 1 0 0], shape=(8,), dtype=int64)\n"
     ]
    }
   ],
   "source": [
    "b=hypothesis(x_data)\n",
    "print(tf.argmax(b,1))\n",
    "print(tf.argmax(y_data,1))"
   ]
  },
  {
   "cell_type": "code",
   "execution_count": null,
   "metadata": {},
   "outputs": [],
   "source": [
    "##class로 한번에 작성##\n",
    "\n",
    "#     class softmax_classifer(tf.keras.Model):\n",
    "#         def __init__(self, nb_classes):\n",
    "#             super(softmax_classifer, self).__init__()\n",
    "#             self.W = tf.Variable(tf.random.normal((4, nb_classes)), name='weight')\n",
    "#             self.b = tf.Variable(tf.random.normal((nb_classes,)), name='bias')\n",
    "\n",
    "#         def softmax_regression(self, X):\n",
    "#             return tf.nn.softmax(tf.matmul(X, self.W) + self.b)\n",
    "\n",
    "#         def cost_fn(self, X, Y):\n",
    "#             logits = self.softmax_regression(X)\n",
    "#             cost = tf.reduce_mean(-tf.reduce_sum(Y * tf.math.log(logits), axis=1))        \n",
    "#             return cost\n",
    "\n",
    "#         def grad_fn(self, X, Y):\n",
    "#             with tf.GradientTape() as tape:\n",
    "#                 cost = self.cost_fn(x_data, y_data)\n",
    "#                 grads = tape.gradient(cost, self.variables)            \n",
    "#                 return grads\n",
    "\n",
    "#         def fit(self, X, Y, epochs=2000, verbose=500):\n",
    "#             optimizer =  tf.keras.optimizers.SGD(learning_rate=0.1)\n",
    "\n",
    "#             for i in range(epochs):\n",
    "#                 grads = self.grad_fn(X, Y)\n",
    "#                 optimizer.apply_gradients(zip(grads, self.variables))\n",
    "#                 if (i==0) | ((i+1)%verbose==0):\n",
    "#                     print('Loss at epoch %d: %f' %(i+1, self.cost_fn(X, Y).numpy()))\n",
    "\n",
    "#     model = softmax_classifer(nb_classes)\n",
    "#     model.fit(x_data, y_data)"
   ]
  }
 ],
 "metadata": {
  "kernelspec": {
   "display_name": "Python 3",
   "language": "python",
   "name": "python3"
  },
  "language_info": {
   "codemirror_mode": {
    "name": "ipython",
    "version": 3
   },
   "file_extension": ".py",
   "mimetype": "text/x-python",
   "name": "python",
   "nbconvert_exporter": "python",
   "pygments_lexer": "ipython3",
   "version": "3.7.6"
  }
 },
 "nbformat": 4,
 "nbformat_minor": 4
}
