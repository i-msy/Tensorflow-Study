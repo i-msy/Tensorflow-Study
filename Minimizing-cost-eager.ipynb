{
 "cells": [
  {
   "cell_type": "code",
   "execution_count": 5,
   "metadata": {},
   "outputs": [
    {
     "name": "stdout",
     "output_type": "stream",
     "text": [
      "-3.000 |    5.33333\n",
      "-2.429 |    3.91837\n",
      "-1.857 |    2.72109\n",
      "-1.286 |    1.74150\n",
      "-0.714 |    0.97959\n",
      "-0.143 |    0.43537\n",
      " 0.429 |    0.10884\n",
      " 1.000 |    0.00000\n",
      " 1.571 |    0.10884\n",
      " 2.143 |    0.43537\n",
      " 2.714 |    0.97959\n",
      " 3.286 |    1.74150\n",
      " 3.857 |    2.72109\n",
      " 4.429 |    3.91837\n",
      " 5.000 |    5.33333\n"
     ]
    }
   ],
   "source": [
    "import numpy as np\n",
    "import tensorflow as tf\n",
    "\n",
    "tf.enable_eager_execution()\n",
    "tf.__version__\n",
    "\n",
    "X=np.array([1,2,3])\n",
    "Y=np.array([1,2,3])\n",
    "\n",
    "def cost_func(W,X,Y):\n",
    "    c=0\n",
    "    for i in range(len(X)):\n",
    "        c += (W*X[i]-Y[i])**2\n",
    "        return c/len(X)\n",
    "    \n",
    "for feed_W in np.linspace(-3,5,num=15):\n",
    "    curr_cost = cost_func(feed_W,X,Y)\n",
    "    print(\"{:6.3f} | {:10.5f}\".format(feed_W,curr_cost))\n",
    "        "
   ]
  },
  {
   "cell_type": "code",
   "execution_count": 4,
   "metadata": {},
   "outputs": [
    {
     "data": {
      "text/plain": [
       "'1.12.0'"
      ]
     },
     "execution_count": 4,
     "metadata": {},
     "output_type": "execute_result"
    }
   ],
   "source": [
    "tf.__version__"
   ]
  },
  {
   "cell_type": "code",
   "execution_count": 8,
   "metadata": {},
   "outputs": [
    {
     "name": "stdout",
     "output_type": "stream",
     "text": [
      "    0 | 18829.7812 |  47.348293\n",
      "   10 |  3959.8613 |  22.254509\n",
      "   20 |   832.7499 |  10.746943\n",
      "   30 |   175.1255 |   5.469776\n",
      "   40 |    36.8285 |   3.049760\n",
      "   50 |     7.7449 |   1.939984\n",
      "   60 |     1.6287 |   1.431060\n",
      "   70 |     0.3425 |   1.197676\n",
      "   80 |     0.0720 |   1.090651\n",
      "   90 |     0.0151 |   1.041571\n",
      "  100 |     0.0032 |   1.019064\n",
      "  110 |     0.0007 |   1.008742\n",
      "  120 |     0.0001 |   1.004009\n",
      "  130 |     0.0000 |   1.001839\n",
      "  140 |     0.0000 |   1.000843\n",
      "  150 |     0.0000 |   1.000387\n",
      "  160 |     0.0000 |   1.000178\n",
      "  170 |     0.0000 |   1.000081\n",
      "  180 |     0.0000 |   1.000037\n",
      "  190 |     0.0000 |   1.000017\n",
      "  200 |     0.0000 |   1.000008\n",
      "  210 |     0.0000 |   1.000004\n",
      "  220 |     0.0000 |   1.000002\n",
      "  230 |     0.0000 |   1.000001\n",
      "  240 |     0.0000 |   1.000001\n",
      "  250 |     0.0000 |   1.000001\n",
      "  260 |     0.0000 |   1.000001\n",
      "  270 |     0.0000 |   1.000001\n",
      "  280 |     0.0000 |   1.000001\n",
      "  290 |     0.0000 |   1.000001\n"
     ]
    }
   ],
   "source": [
    "tf.set_random_seed(0)\n",
    "\n",
    "x_data=[1.,2.,3.,4.]\n",
    "y_data=[1.,2.,3.,4.]\n",
    "W=tf.Variable(tf.random_normal([1],-100.,100.))\n",
    "#정규 분포를 따르는 변수 1개를 W에 할당\n",
    "\n",
    "for step in range(300):\n",
    "    hypothesis = W*x_data\n",
    "    cost = tf.reduce_mean(tf.square(hypothesis-y_data))\n",
    "    \n",
    "    alpha=0.01\n",
    "    gradient=tf.reduce_mean(tf.multiply(tf.multiply(W,x_data)-y_data,x_data))\n",
    "    descent=W-tf.multiply(alpha,gradient)\n",
    "    W.assign(descent)\n",
    "    \n",
    "    if step % 10 == 0:\n",
    "        print('{:5} | {:10.4f} | {:10.6f}'.format(step,cost.numpy(),W.numpy()[0]))\n",
    "    "
   ]
  },
  {
   "cell_type": "code",
   "execution_count": null,
   "metadata": {},
   "outputs": [],
   "source": []
  }
 ],
 "metadata": {
  "kernelspec": {
   "display_name": "Python 3",
   "language": "python",
   "name": "python3"
  },
  "language_info": {
   "codemirror_mode": {
    "name": "ipython",
    "version": 3
   },
   "file_extension": ".py",
   "mimetype": "text/x-python",
   "name": "python",
   "nbconvert_exporter": "python",
   "pygments_lexer": "ipython3",
   "version": "3.6.8"
  }
 },
 "nbformat": 4,
 "nbformat_minor": 2
}
